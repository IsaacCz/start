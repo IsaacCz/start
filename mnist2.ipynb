{
  "nbformat": 4,
  "nbformat_minor": 0,
  "metadata": {
    "colab": {
      "provenance": []
    },
    "kernelspec": {
      "name": "python3",
      "display_name": "Python 3"
    },
    "language_info": {
      "name": "python"
    }
  },
  "cells": [
    {
      "cell_type": "code",
      "execution_count": 1,
      "metadata": {
        "id": "6xnHvFraWID2"
      },
      "outputs": [],
      "source": [
        "from tensorflow import keras as k\n",
        "import numpy as np\n",
        "import matplotlib.pyplot as plt\n"
      ]
    },
    {
      "cell_type": "code",
      "source": [
        "# boilerplate from data source\n",
        "(x_train, y_train), (x_test, y_test) = k.datasets.mnist.load_data()\n",
        "assert x_train.shape == (60000, 28, 28)\n",
        "assert x_test.shape == (10000, 28, 28)\n",
        "assert y_train.shape == (60000,)\n",
        "assert y_test.shape == (10000,)"
      ],
      "metadata": {
        "id": "CQfO6uTkWWUP"
      },
      "execution_count": 2,
      "outputs": []
    },
    {
      "cell_type": "code",
      "source": [
        "# Tried dropout -- killed model\n",
        "# Increasing layer width 12->24 caused large improvement\n",
        "# Second hidden layer brought significant improvement, as did third layer -- 4th layer did not help\n",
        "input = k.layers.Input(shape=(28, 28))\n",
        "flat = k.layers.Flatten()(input)\n",
        "x1 = k.layers.Dense(24, activation='relu')(flat)\n",
        "x2 = k.layers.Dense(24, activation='relu')(x1)\n",
        "x3 = k.layers.Dense(24, activation='relu')(x2)\n",
        "#x4 = k.layers.Dense(24, activation='relu')(x3)\n",
        "output = k.layers.Dense(10, activation='softmax')(x3)\n",
        "model = k.Model(inputs=input, outputs=output)\n",
        "model.summary()"
      ],
      "metadata": {
        "colab": {
          "base_uri": "https://localhost:8080/"
        },
        "id": "LvPixkQNYVwv",
        "outputId": "6ddbd209-405a-438a-9f83-754905969a66"
      },
      "execution_count": 30,
      "outputs": [
        {
          "output_type": "stream",
          "name": "stdout",
          "text": [
            "Model: \"model_5\"\n",
            "_________________________________________________________________\n",
            " Layer (type)                Output Shape              Param #   \n",
            "=================================================================\n",
            " input_6 (InputLayer)        [(None, 28, 28)]          0         \n",
            "                                                                 \n",
            " flatten_5 (Flatten)         (None, 784)               0         \n",
            "                                                                 \n",
            " dense_13 (Dense)            (None, 24)                18840     \n",
            "                                                                 \n",
            " dense_14 (Dense)            (None, 24)                600       \n",
            "                                                                 \n",
            " dense_15 (Dense)            (None, 24)                600       \n",
            "                                                                 \n",
            " dense_16 (Dense)            (None, 24)                600       \n",
            "                                                                 \n",
            " dense_17 (Dense)            (None, 10)                250       \n",
            "                                                                 \n",
            "=================================================================\n",
            "Total params: 20890 (81.60 KB)\n",
            "Trainable params: 20890 (81.60 KB)\n",
            "Non-trainable params: 0 (0.00 Byte)\n",
            "_________________________________________________________________\n"
          ]
        }
      ]
    },
    {
      "cell_type": "code",
      "source": [
        "loss_fn = k.losses.SparseCategoricalCrossentropy()"
      ],
      "metadata": {
        "id": "gmW9YTscg4RP"
      },
      "execution_count": 31,
      "outputs": []
    },
    {
      "cell_type": "code",
      "source": [
        "model.compile(optimizer='adam', loss=loss_fn, metrics='accuracy')"
      ],
      "metadata": {
        "id": "ODuQN0wviSF6"
      },
      "execution_count": 32,
      "outputs": []
    },
    {
      "cell_type": "code",
      "source": [
        "model.fit(x_train, y_train, epochs=6)"
      ],
      "metadata": {
        "colab": {
          "base_uri": "https://localhost:8080/"
        },
        "id": "yUH9TVU7is64",
        "outputId": "db8eede0-a483-4711-98e3-7eed4ac133dc"
      },
      "execution_count": 33,
      "outputs": [
        {
          "output_type": "stream",
          "name": "stdout",
          "text": [
            "Epoch 1/6\n",
            "1875/1875 [==============================] - 3s 1ms/step - loss: 1.3207 - accuracy: 0.6075\n",
            "Epoch 2/6\n",
            "1875/1875 [==============================] - 3s 1ms/step - loss: 0.5430 - accuracy: 0.8077\n",
            "Epoch 3/6\n",
            "1875/1875 [==============================] - 4s 2ms/step - loss: 0.4639 - accuracy: 0.8320\n",
            "Epoch 4/6\n",
            "1875/1875 [==============================] - 3s 2ms/step - loss: 0.4240 - accuracy: 0.8429\n",
            "Epoch 5/6\n",
            "1875/1875 [==============================] - 3s 1ms/step - loss: 0.3714 - accuracy: 0.8836\n",
            "Epoch 6/6\n",
            "1875/1875 [==============================] - 3s 2ms/step - loss: 0.2989 - accuracy: 0.9172\n"
          ]
        },
        {
          "output_type": "execute_result",
          "data": {
            "text/plain": [
              "<keras.src.callbacks.History at 0x7d8a0c6591e0>"
            ]
          },
          "metadata": {},
          "execution_count": 33
        }
      ]
    },
    {
      "cell_type": "code",
      "source": [
        "model.test_on_batch(x_test, y_test)"
      ],
      "metadata": {
        "colab": {
          "base_uri": "https://localhost:8080/"
        },
        "id": "moll6MYlmpd6",
        "outputId": "29c7aa1e-9865-4c45-f749-f8c57b87cd96"
      },
      "execution_count": 29,
      "outputs": [
        {
          "output_type": "execute_result",
          "data": {
            "text/plain": [
              "[0.25022533535957336, 0.9312999844551086]"
            ]
          },
          "metadata": {},
          "execution_count": 29
        }
      ]
    }
  ]
}