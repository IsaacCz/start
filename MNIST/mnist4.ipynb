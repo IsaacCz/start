{
  "nbformat": 4,
  "nbformat_minor": 0,
  "metadata": {
    "colab": {
      "provenance": []
    },
    "kernelspec": {
      "name": "python3",
      "display_name": "Python 3"
    },
    "language_info": {
      "name": "python"
    }
  },
  "cells": [
    {
      "cell_type": "code",
      "execution_count": 1,
      "metadata": {
        "id": "6xnHvFraWID2"
      },
      "outputs": [],
      "source": [
        "from tensorflow import keras as k\n",
        "import numpy as np\n",
        "import matplotlib.pyplot as plt\n"
      ]
    },
    {
      "cell_type": "code",
      "source": [
        "# boilerplate from data source\n",
        "(x_train, y_train), (x_test, y_test) = k.datasets.mnist.load_data()\n",
        "assert x_train.shape == (60000, 28, 28)\n",
        "assert x_test.shape == (10000, 28, 28)\n",
        "assert y_train.shape == (60000,)\n",
        "assert y_test.shape == (10000,)\n",
        "# correct scaling cuts error rate almost in half\n",
        "x_train, x_test = x_train / 255.0, x_test / 255.0"
      ],
      "metadata": {
        "id": "CQfO6uTkWWUP"
      },
      "execution_count": 2,
      "outputs": []
    },
    {
      "cell_type": "code",
      "source": [
        "# Convolutional Model\n",
        "i1 = k.layers.Input(shape=(28, 28, 1))\n",
        "c1 = k.layers.Conv2D(12, 8, strides=3, activation='relu')(i1)\n",
        "p1 = k.layers.AvgPool2D(3, strides=1)(c1)\n",
        "c2 = k.layers.Conv2D(12, 5, activation='relu')(p1)\n",
        "# Handmade Features\n",
        "z1 = k.layers.AvgPool2D(14, strides=14)(i1)\n",
        "z2 = k.layers.MaxPool2D(7, strides=7)(i1)\n",
        "z3 = k.layers.AvgPool2D(12, strides=8)(i1)\n",
        "z4 = k.layers.Conv2D(10, 3, activation='relu')(z2)\n",
        "# FLATTEN\n",
        "f1 = k.layers.Flatten()(c2)\n",
        "f2 = k.layers.Flatten()(z1)\n",
        "f3 = k.layers.Flatten()(z3)\n",
        "f4 = k.layers.Flatten()(z4)\n",
        "f5 = k.layers.Concatenate()([f1, f2, f3, f4])\n",
        "# NN\n",
        "x1 = k.layers.Dense(120, activation='relu')(f5)\n",
        "x2 = k.layers.Dense(60, activation='relu')(x1)\n",
        "d1 = k.layers.Dropout(.1)(x2)\n",
        "x3 = k.layers.Dense(29, activation='relu')(d1)\n",
        "o1 = k.layers.Dense(10, activation='softmax')(x3)\n",
        "\n",
        "\n",
        "model = k.Model(inputs=i1, outputs=o1)\n",
        "model.summary()"
      ],
      "metadata": {
        "colab": {
          "base_uri": "https://localhost:8080/"
        },
        "id": "LvPixkQNYVwv",
        "outputId": "2c653e12-1387-4ad6-9264-f55ba0e5a54b"
      },
      "execution_count": 11,
      "outputs": [
        {
          "output_type": "stream",
          "name": "stdout",
          "text": [
            "Model: \"model\"\n",
            "__________________________________________________________________________________________________\n",
            " Layer (type)                Output Shape                 Param #   Connected to                  \n",
            "==================================================================================================\n",
            " input_9 (InputLayer)        [(None, 28, 28, 1)]          0         []                            \n",
            "                                                                                                  \n",
            " conv2d_16 (Conv2D)          (None, 7, 7, 12)             780       ['input_9[0][0]']             \n",
            "                                                                                                  \n",
            " average_pooling2d_13 (Aver  (None, 5, 5, 12)             0         ['conv2d_16[0][0]']           \n",
            " agePooling2D)                                                                                    \n",
            "                                                                                                  \n",
            " max_pooling2d_4 (MaxPoolin  (None, 4, 4, 1)              0         ['input_9[0][0]']             \n",
            " g2D)                                                                                             \n",
            "                                                                                                  \n",
            " conv2d_17 (Conv2D)          (None, 1, 1, 12)             3612      ['average_pooling2d_13[0][0]']\n",
            "                                                                                                  \n",
            " average_pooling2d_14 (Aver  (None, 2, 2, 1)              0         ['input_9[0][0]']             \n",
            " agePooling2D)                                                                                    \n",
            "                                                                                                  \n",
            " average_pooling2d_15 (Aver  (None, 3, 3, 1)              0         ['input_9[0][0]']             \n",
            " agePooling2D)                                                                                    \n",
            "                                                                                                  \n",
            " conv2d_18 (Conv2D)          (None, 2, 2, 10)             100       ['max_pooling2d_4[0][0]']     \n",
            "                                                                                                  \n",
            " flatten_13 (Flatten)        (None, 12)                   0         ['conv2d_17[0][0]']           \n",
            "                                                                                                  \n",
            " flatten_14 (Flatten)        (None, 4)                    0         ['average_pooling2d_14[0][0]']\n",
            "                                                                                                  \n",
            " flatten_15 (Flatten)        (None, 9)                    0         ['average_pooling2d_15[0][0]']\n",
            "                                                                                                  \n",
            " flatten_16 (Flatten)        (None, 40)                   0         ['conv2d_18[0][0]']           \n",
            "                                                                                                  \n",
            " concatenate_2 (Concatenate  (None, 65)                   0         ['flatten_13[0][0]',          \n",
            " )                                                                   'flatten_14[0][0]',          \n",
            "                                                                     'flatten_15[0][0]',          \n",
            "                                                                     'flatten_16[0][0]']          \n",
            "                                                                                                  \n",
            " dense_1 (Dense)             (None, 120)                  7920      ['concatenate_2[0][0]']       \n",
            "                                                                                                  \n",
            " dense_2 (Dense)             (None, 60)                   7260      ['dense_1[0][0]']             \n",
            "                                                                                                  \n",
            " dropout (Dropout)           (None, 60)                   0         ['dense_2[0][0]']             \n",
            "                                                                                                  \n",
            " dense_3 (Dense)             (None, 29)                   1769      ['dropout[0][0]']             \n",
            "                                                                                                  \n",
            " dense_4 (Dense)             (None, 10)                   300       ['dense_3[0][0]']             \n",
            "                                                                                                  \n",
            "==================================================================================================\n",
            "Total params: 21741 (84.93 KB)\n",
            "Trainable params: 21741 (84.93 KB)\n",
            "Non-trainable params: 0 (0.00 Byte)\n",
            "__________________________________________________________________________________________________\n"
          ]
        }
      ]
    },
    {
      "cell_type": "code",
      "source": [
        "loss_fn = k.losses.SparseCategoricalCrossentropy()"
      ],
      "metadata": {
        "id": "gmW9YTscg4RP"
      },
      "execution_count": 12,
      "outputs": []
    },
    {
      "cell_type": "code",
      "source": [
        "model.compile(optimizer=k.optimizers.Adam(learning_rate=0.003), loss=loss_fn, metrics='accuracy')"
      ],
      "metadata": {
        "id": "ODuQN0wviSF6"
      },
      "execution_count": 13,
      "outputs": []
    },
    {
      "cell_type": "code",
      "source": [
        "model.fit(x_train, y_train, epochs=20)"
      ],
      "metadata": {
        "colab": {
          "base_uri": "https://localhost:8080/"
        },
        "id": "yUH9TVU7is64",
        "outputId": "a9e82a85-9b59-470a-eee2-4a0dee8c1570"
      },
      "execution_count": 14,
      "outputs": [
        {
          "output_type": "stream",
          "name": "stdout",
          "text": [
            "Epoch 1/20\n",
            "1875/1875 [==============================] - 11s 5ms/step - loss: 0.3976 - accuracy: 0.8721\n",
            "Epoch 2/20\n",
            "1875/1875 [==============================] - 8s 4ms/step - loss: 0.1716 - accuracy: 0.9499\n",
            "Epoch 3/20\n",
            "1875/1875 [==============================] - 9s 5ms/step - loss: 0.1405 - accuracy: 0.9580\n",
            "Epoch 4/20\n",
            "1875/1875 [==============================] - 9s 5ms/step - loss: 0.1249 - accuracy: 0.9631\n",
            "Epoch 5/20\n",
            "1875/1875 [==============================] - 10s 5ms/step - loss: 0.1150 - accuracy: 0.9667\n",
            "Epoch 6/20\n",
            "1875/1875 [==============================] - 9s 5ms/step - loss: 0.1095 - accuracy: 0.9682\n",
            "Epoch 7/20\n",
            "1875/1875 [==============================] - 9s 5ms/step - loss: 0.1031 - accuracy: 0.9696\n",
            "Epoch 8/20\n",
            "1875/1875 [==============================] - 9s 5ms/step - loss: 0.0957 - accuracy: 0.9718\n",
            "Epoch 9/20\n",
            "1875/1875 [==============================] - 9s 5ms/step - loss: 0.0945 - accuracy: 0.9725\n",
            "Epoch 10/20\n",
            "1875/1875 [==============================] - 9s 5ms/step - loss: 0.0918 - accuracy: 0.9735\n",
            "Epoch 11/20\n",
            "1875/1875 [==============================] - 9s 5ms/step - loss: 0.0889 - accuracy: 0.9738\n",
            "Epoch 12/20\n",
            "1875/1875 [==============================] - 9s 5ms/step - loss: 0.0849 - accuracy: 0.9748\n",
            "Epoch 13/20\n",
            "1875/1875 [==============================] - 8s 4ms/step - loss: 0.0832 - accuracy: 0.9754\n",
            "Epoch 14/20\n",
            "1875/1875 [==============================] - 9s 5ms/step - loss: 0.0790 - accuracy: 0.9765\n",
            "Epoch 15/20\n",
            "1875/1875 [==============================] - 9s 5ms/step - loss: 0.0780 - accuracy: 0.9769\n",
            "Epoch 16/20\n",
            "1875/1875 [==============================] - 8s 4ms/step - loss: 0.0767 - accuracy: 0.9771\n",
            "Epoch 17/20\n",
            "1875/1875 [==============================] - 10s 5ms/step - loss: 0.0768 - accuracy: 0.9770\n",
            "Epoch 18/20\n",
            "1875/1875 [==============================] - 9s 5ms/step - loss: 0.0761 - accuracy: 0.9778\n",
            "Epoch 19/20\n",
            "1875/1875 [==============================] - 10s 5ms/step - loss: 0.0715 - accuracy: 0.9784\n",
            "Epoch 20/20\n",
            "1875/1875 [==============================] - 8s 4ms/step - loss: 0.0743 - accuracy: 0.9785\n"
          ]
        },
        {
          "output_type": "execute_result",
          "data": {
            "text/plain": [
              "<keras.src.callbacks.History at 0x7d3f440d5870>"
            ]
          },
          "metadata": {},
          "execution_count": 14
        }
      ]
    },
    {
      "cell_type": "code",
      "source": [
        "model.test_on_batch(x_test, y_test)"
      ],
      "metadata": {
        "colab": {
          "base_uri": "https://localhost:8080/"
        },
        "id": "moll6MYlmpd6",
        "outputId": "72d71d22-7a6a-467b-eb5e-3602610ea4a0"
      },
      "execution_count": 15,
      "outputs": [
        {
          "output_type": "execute_result",
          "data": {
            "text/plain": [
              "[0.07495398819446564, 0.9769999980926514]"
            ]
          },
          "metadata": {},
          "execution_count": 15
        }
      ]
    }
  ]
}