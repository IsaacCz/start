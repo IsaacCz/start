{
  "nbformat": 4,
  "nbformat_minor": 0,
  "metadata": {
    "colab": {
      "provenance": []
    },
    "kernelspec": {
      "name": "python3",
      "display_name": "Python 3"
    },
    "language_info": {
      "name": "python"
    }
  },
  "cells": [
    {
      "cell_type": "code",
      "execution_count": 1,
      "metadata": {
        "id": "6xnHvFraWID2"
      },
      "outputs": [],
      "source": [
        "import tensorflow as tf\n",
        "import numpy as np\n",
        "import matplotlib.pyplot as plt"
      ]
    },
    {
      "cell_type": "code",
      "source": [
        "# boilerplate from data source\n",
        "(x_train, y_train), (x_test, y_test) = tf.keras.datasets.mnist.load_data()\n",
        "assert x_train.shape == (60000, 28, 28)\n",
        "assert x_test.shape == (10000, 28, 28)\n",
        "assert y_train.shape == (60000,)\n",
        "assert y_test.shape == (10000,)"
      ],
      "metadata": {
        "colab": {
          "base_uri": "https://localhost:8080/"
        },
        "id": "CQfO6uTkWWUP",
        "outputId": "aa03e0dd-fd99-4484-fc22-90a6397752f9"
      },
      "execution_count": 4,
      "outputs": [
        {
          "output_type": "stream",
          "name": "stdout",
          "text": [
            "Downloading data from https://storage.googleapis.com/tensorflow/tf-keras-datasets/mnist.npz\n",
            "11490434/11490434 [==============================] - 0s 0us/step\n"
          ]
        }
      ]
    },
    {
      "cell_type": "code",
      "source": [
        "# Very simple model\n",
        "input = tf.keras.layers.Input(shape=(28, 28))\n",
        "flat = tf.keras.layers.Flatten()(input)\n",
        "dense1 = tf.keras.layers.Dense(12, activation='relu')(flat)\n",
        "output = tf.keras.layers.Dense(10, activation='softmax')(dense1)\n",
        "model = tf.keras.Model(inputs=input, outputs=output)\n",
        "model.summary()"
      ],
      "metadata": {
        "colab": {
          "base_uri": "https://localhost:8080/"
        },
        "id": "LvPixkQNYVwv",
        "outputId": "77fbfaf1-cd70-4a83-a343-57eeb4ec7227"
      },
      "execution_count": 13,
      "outputs": [
        {
          "output_type": "stream",
          "name": "stdout",
          "text": [
            "Model: \"model_1\"\n",
            "_________________________________________________________________\n",
            " Layer (type)                Output Shape              Param #   \n",
            "=================================================================\n",
            " input_2 (InputLayer)        [(None, 28, 28)]          0         \n",
            "                                                                 \n",
            " flatten_5 (Flatten)         (None, 784)               0         \n",
            "                                                                 \n",
            " dense_9 (Dense)             (None, 12)                9420      \n",
            "                                                                 \n",
            " dense_10 (Dense)            (None, 10)                130       \n",
            "                                                                 \n",
            "=================================================================\n",
            "Total params: 9550 (37.30 KB)\n",
            "Trainable params: 9550 (37.30 KB)\n",
            "Non-trainable params: 0 (0.00 Byte)\n",
            "_________________________________________________________________\n"
          ]
        }
      ]
    },
    {
      "cell_type": "code",
      "source": [
        "loss_fn = tf.keras.losses.SparseCategoricalCrossentropy()\n",
        "# I will try without from_logits=true arg for now"
      ],
      "metadata": {
        "id": "gmW9YTscg4RP"
      },
      "execution_count": 15,
      "outputs": []
    },
    {
      "cell_type": "code",
      "source": [
        "model.compile(optimizer='adam', loss=loss_fn, metrics='accuracy')"
      ],
      "metadata": {
        "id": "ODuQN0wviSF6"
      },
      "execution_count": 18,
      "outputs": []
    },
    {
      "cell_type": "code",
      "source": [
        "model.fit(x_train, y_train, epochs=6)"
      ],
      "metadata": {
        "colab": {
          "base_uri": "https://localhost:8080/"
        },
        "id": "yUH9TVU7is64",
        "outputId": "c3bbec6d-357f-4747-837e-d67e9286e547"
      },
      "execution_count": 20,
      "outputs": [
        {
          "output_type": "stream",
          "name": "stdout",
          "text": [
            "Epoch 1/6\n",
            "1875/1875 [==============================] - 2s 1ms/step - loss: 0.8051 - accuracy: 0.7484\n",
            "Epoch 2/6\n",
            "1875/1875 [==============================] - 2s 1ms/step - loss: 0.6622 - accuracy: 0.8183\n",
            "Epoch 3/6\n",
            "1875/1875 [==============================] - 3s 1ms/step - loss: 0.5572 - accuracy: 0.8501\n",
            "Epoch 4/6\n",
            "1875/1875 [==============================] - 3s 1ms/step - loss: 0.4970 - accuracy: 0.8625\n",
            "Epoch 5/6\n",
            "1875/1875 [==============================] - 2s 1ms/step - loss: 0.4704 - accuracy: 0.8683\n",
            "Epoch 6/6\n",
            "1875/1875 [==============================] - 2s 1ms/step - loss: 0.4488 - accuracy: 0.8730\n"
          ]
        },
        {
          "output_type": "execute_result",
          "data": {
            "text/plain": [
              "<keras.src.callbacks.History at 0x7c3d9e2b98d0>"
            ]
          },
          "metadata": {},
          "execution_count": 20
        }
      ]
    },
    {
      "cell_type": "code",
      "source": [
        "model.test_on_batch(x_test, y_test)"
      ],
      "metadata": {
        "colab": {
          "base_uri": "https://localhost:8080/"
        },
        "id": "moll6MYlmpd6",
        "outputId": "2e956bf5-c2e1-4ee8-e584-6ba8709f7999"
      },
      "execution_count": 21,
      "outputs": [
        {
          "output_type": "execute_result",
          "data": {
            "text/plain": [
              "[0.4860582649707794, 0.8765000104904175]"
            ]
          },
          "metadata": {},
          "execution_count": 21
        }
      ]
    }
  ]
}
